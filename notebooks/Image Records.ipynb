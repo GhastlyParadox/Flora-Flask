{
 "cells": [
  {
   "cell_type": "code",
   "execution_count": 1,
   "metadata": {
    "pycharm": {
     "is_executing": false
    }
   },
   "outputs": [],
   "source": [
    "%load_ext autoreload\n",
    "%autoreload 2 # option 2 auto-reloads packages before executing on each call"
   ]
  },
  {
   "cell_type": "code",
   "execution_count": 2,
   "metadata": {
    "pycharm": {
     "is_executing": false
    }
   },
   "outputs": [],
   "source": [
    "import sys\n",
    "sys.path.append(\"../\")\n",
    "from db.miflora import MIFloraDB\n",
    "from db.core import SpecimenSearchRecord\n",
    "import sqlparse\n",
    "from sqlalchemy.orm.query import Query\n",
    "from db.miflora import SpecimenRecords\n",
    "from sqlalchemy import create_engine, func\n",
    "\n",
    "def print_query(query):\n",
    "    print(sqlparse.format(str(query), reindent=True, keyword_case='upper'))"
   ]
  },
  {
   "cell_type": "code",
   "execution_count": 3,
   "metadata": {
    "pycharm": {
     "is_executing": false
    }
   },
   "outputs": [],
   "source": [
    "credentials_file = \"../mif_creds.p\"\n",
    "miflora_db = MIFloraDB(credentials_file=credentials_file)\n",
    "miflora_db.kickstart()"
   ]
  },
  {
   "cell_type": "code",
   "execution_count": 4,
   "metadata": {
    "pycharm": {
     "is_executing": false
    }
   },
   "outputs": [
    {
     "data": {
      "text/plain": "['RED MAPLE']"
     },
     "metadata": {},
     "output_type": "execute_result",
     "execution_count": 4
    }
   ],
   "source": [
    "miflora_db.list_common_names(plant_id=2654)"
   ]
  },
  {
   "cell_type": "code",
   "execution_count": 5,
   "metadata": {
    "pycharm": {
     "is_executing": false
    }
   },
   "outputs": [
    {
     "data": {
      "text/plain": "OrderedDict([('image_id', 97698),\n             ('image_name', 'Acer rubrum fruits.jpg'),\n             ('plant_id', 2654),\n             ('caption', 'fruits'),\n             ('photographer', 'A. A. Reznicek')])"
     },
     "metadata": {},
     "output_type": "execute_result",
     "execution_count": 5
    }
   ],
   "source": [
    "miflora_db.get_primary_image_info(2654)._asdict()"
   ]
  },
  {
   "cell_type": "code",
   "execution_count": 14,
   "outputs": [
    {
     "data": {
      "text/plain": "[ImageRecord(image_id=8330, image_name='Salsola tragus 5892-.JPG', plant_id=88, caption=None, photographer='R. W. Smith'),\n ImageRecord(image_id=8331, image_name='Salsola tragus 5894-.JPG', plant_id=88, caption=None, photographer='R. W. Smith'),\n ImageRecord(image_id=14534, image_name='Salsola tragus 6278E-.jpg', plant_id=88, caption=None, photographer='R. W. Smith')]"
     },
     "metadata": {},
     "output_type": "execute_result",
     "execution_count": 14
    }
   ],
   "source": [
    "records = miflora_db.get_all_image_info(88)\n",
    "records"
   ],
   "metadata": {
    "collapsed": false,
    "pycharm": {
     "name": "#%%\n",
     "is_executing": false
    }
   }
  },
  {
   "cell_type": "code",
   "execution_count": 15,
   "outputs": [
    {
     "data": {
      "text/plain": "[OrderedDict([('image_id', 8330),\n              ('image_name', 'Salsola tragus 5892-.JPG'),\n              ('plant_id', 88),\n              ('caption', None),\n              ('photographer', 'R. W. Smith')]),\n OrderedDict([('image_id', 8331),\n              ('image_name', 'Salsola tragus 5894-.JPG'),\n              ('plant_id', 88),\n              ('caption', None),\n              ('photographer', 'R. W. Smith')]),\n OrderedDict([('image_id', 14534),\n              ('image_name', 'Salsola tragus 6278E-.jpg'),\n              ('plant_id', 88),\n              ('caption', None),\n              ('photographer', 'R. W. Smith')])]"
     },
     "metadata": {},
     "output_type": "execute_result",
     "execution_count": 15
    }
   ],
   "source": [
    "from db.core import restify_namedtuple\n",
    "restify_namedtuple(records)"
   ],
   "metadata": {
    "collapsed": false,
    "pycharm": {
     "name": "#%%\n",
     "is_executing": false
    }
   }
  },
  {
   "cell_type": "code",
   "execution_count": null,
   "metadata": {
    "pycharm": {
     "is_executing": false
    }
   },
   "outputs": [],
   "source": [
    "sys.executable"
   ]
  },
  {
   "cell_type": "code",
   "execution_count": null,
   "metadata": {
    "pycharm": {
     "is_executing": false
    }
   },
   "outputs": [],
   "source": [
    "%connect_info"
   ]
  },
  {
   "cell_type": "code",
   "execution_count": null,
   "metadata": {
    "pycharm": {
     "is_executing": false
    }
   },
   "outputs": [],
   "source": []
  }
 ],
 "metadata": {
  "kernelspec": {
   "display_name": "Python 3",
   "language": "python",
   "name": "python3"
  },
  "language_info": {
   "codemirror_mode": {
    "name": "ipython",
    "version": 3
   },
   "file_extension": ".py",
   "mimetype": "text/x-python",
   "name": "python",
   "nbconvert_exporter": "python",
   "pygments_lexer": "ipython3",
   "version": "3.7.3"
  },
  "pycharm": {
   "stem_cell": {
    "cell_type": "raw",
    "source": [],
    "metadata": {
     "collapsed": false
    }
   }
  }
 },
 "nbformat": 4,
 "nbformat_minor": 2
}