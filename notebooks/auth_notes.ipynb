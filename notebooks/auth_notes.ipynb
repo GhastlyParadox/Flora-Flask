{
 "cells": [
  {
   "cell_type": "markdown",
   "metadata": {
    "collapsed": true,
    "pycharm": {
     "name": "#%% md\n"
    }
   },
   "source": [
    "## Authentication Notes"
   ]
  },
  {
   "cell_type": "markdown",
   "source": [
    "The authentication module uses an instance folder (not versioned) to store the authConfig file and sqlite database: https://exploreflask.com/en/latest/configuration.html"
   ],
   "metadata": {
    "collapsed": false
   }
  },
  {
   "cell_type": "markdown",
   "source": [
    "Some issues arose when attempting to deploy the authentication module on Apache.\n",
    "Most were related to the import order of dependencies.\n",
    "There aren't many specifics to note except that the current setup/order works.\n",
    "\n",
    "One specific dependency issue was with Flask-Dance being unable to find/use 'blinker' for signaling. This was fixed by simply adding an empty __init__.py file to the auth folder, presumably so python treats the folder as a module.\n",
    "\n",
    "Once dependency issues were resolved, initially the application couldn't write to the auth_sqlite database, throwing the following error:\n",
    "\n",
    "```\n",
    "sqlalchemy.exc.OperationalError: (sqlite3.OperationalError) unable to open database file\n",
    "[SQL: INSERT INTO user (email, username, password, last_login_at, current_login_at, last_login_ip, current_login_ip, login_count, active, confirmed_at) VALUES (?, ?, ?, ?, ?, ?, ?, ?, ?, ?)]\n",
    "[parameters: ('aglane@umich.edu', None, None, None, None, None, None, None, 1, None)]\n",
    "```\n",
    "This was obviously a write permission error. It was fixed by navigating to the herbflask/instance folder in terminal, and running the following command:\n",
    "\n",
    "```\n",
    "chmod 777 .\n",
    "```"
   ],
   "metadata": {
    "collapsed": false,
    "pycharm": {
     "name": "#%% md\n"
    }
   }
  }
 ],
 "metadata": {
  "kernelspec": {
   "display_name": "Python 3",
   "language": "python",
   "name": "python3"
  },
  "language_info": {
   "codemirror_mode": {
    "name": "ipython",
    "version": 2
   },
   "file_extension": ".py",
   "mimetype": "text/x-python",
   "name": "python",
   "nbconvert_exporter": "python",
   "pygments_lexer": "ipython2",
   "version": "2.7.6"
  }
 },
 "nbformat": 4,
 "nbformat_minor": 0
}