{
 "cells": [
  {
   "cell_type": "markdown",
   "metadata": {
    "pycharm": {}
   },
   "source": [
    "# Specimen Search Interface\n",
    "\n",
    "A brief overview of how to make simple queries against the specimen database(s) for\n",
    "the Herbarium's Michigan Flora website.\n",
    "\n",
    "***\n",
    "Note:\n",
    "Due to the organization of the project itself, the notebooks being stored one level\n",
    "deeper than the rest of the project, we need to add the parent folder to the path so\n",
    "our custom packages can be located.  This is not needed in the main Flask app."
   ]
  },
  {
   "cell_type": "code",
   "execution_count": 1,
   "metadata": {
    "pycharm": {
     "is_executing": false
    }
   },
   "outputs": [],
   "source": [
    "import sys\n",
    "sys.path.append(\"../\")"
   ]
  },
  {
   "cell_type": "markdown",
   "metadata": {
    "pycharm": {}
   },
   "source": [
    "***\n",
    "### Imports\n",
    "\n",
    "The principle interface to the Michigan Flora database is found in our 'db.miflora'.\n",
    "This is the main object through which we'll perform our searches."
   ]
  },
  {
   "cell_type": "code",
   "execution_count": 2,
   "metadata": {
    "pycharm": {
     "is_executing": false
    }
   },
   "outputs": [],
   "source": [
    "from db.miflora import MIFloraDB"
   ]
  },
  {
   "cell_type": "markdown",
   "metadata": {
    "pycharm": {}
   },
   "source": [
    "To directly access the table descriptions and their associated columns, importing the\n",
    "table class objects is needed. The table class objects are the ORM representation of\n",
    "the tables of the database.  "
   ]
  },
  {
   "cell_type": "code",
   "execution_count": 3,
   "metadata": {
    "pycharm": {
     "is_executing": false
    }
   },
   "outputs": [],
   "source": [
    "import db.miflora as mf"
   ]
  },
  {
   "cell_type": "markdown",
   "metadata": {
    "pycharm": {}
   },
   "source": [
    "Specimen records are returned in a standard format regardless of the database backend.  Currently, this record is simply\n",
    "a namedtuple with a basic set of fields, though as time goes on more functionlity will likely be added, such as helper\n",
    "functions to marshal the data into other formats, e.g. JSON."
   ]
  },
  {
   "cell_type": "code",
   "execution_count": 4,
   "metadata": {
    "pycharm": {
     "is_executing": false
    }
   },
   "outputs": [],
   "source": [
    "from db.core import SpecimenSearchRecord"
   ]
  },
  {
   "cell_type": "markdown",
   "metadata": {
    "pycharm": {}
   },
   "source": [
    "Here we import any installed packages, i.e. not our own packages, that we may need to properly run this notebook.\n",
    "If nothing else, this section can be a placeholder for future notebook expansion."
   ]
  },
  {
   "cell_type": "code",
   "execution_count": 5,
   "metadata": {
    "pycharm": {
     "is_executing": false
    }
   },
   "outputs": [],
   "source": [
    "import sqlparse"
   ]
  },
  {
   "cell_type": "markdown",
   "metadata": {
    "pycharm": {
     "name": "#%% md\n"
    }
   },
   "source": [
    "***\n",
    "### Connecting to the database."
   ]
  },
  {
   "cell_type": "markdown",
   "metadata": {},
   "source": [
    "First we need to construct the database object and pass it our credentials file containing the username and password. \n",
    "This file is stored in **pickle** binary format."
   ]
  },
  {
   "cell_type": "code",
   "execution_count": 6,
   "metadata": {
    "pycharm": {
     "is_executing": false,
     "name": "#%%\n"
    }
   },
   "outputs": [],
   "source": [
    "credentials_file = \"../mif_creds.p\"\n",
    "miflora_db = MIFloraDB(credentials_file=credentials_file)"
   ]
  },
  {
   "cell_type": "markdown",
   "metadata": {},
   "source": [
    "We haven't actually connected to the database, so we need to kickstart the engine."
   ]
  },
  {
   "cell_type": "code",
   "execution_count": 7,
   "metadata": {
    "pycharm": {
     "is_executing": false
    }
   },
   "outputs": [],
   "source": [
    "miflora_db.kickstart()"
   ]
  },
  {
   "cell_type": "markdown",
   "metadata": {
    "pycharm": {
     "metadata": false,
     "name": "#%% md\n"
    }
   },
   "source": [
    "***\n",
    "### Anatomy of a Specimen Search\n"
   ]
  },
  {
   "cell_type": "markdown",
   "metadata": {
    "pycharm": {}
   },
   "source": [
    "The specimen search is consolidated in single class method of our database object: **search_specimens**.  Internally,\n",
    "this method generates the necessary SQL query or queries via SQLAlchemy.  Currently, the logic of the query is more or\n",
    "less a reproduction of the raw SQL query that the old website runs.  This will likely change in near future as the new\n",
    "Specify database becomes the standard.\n",
    "\n",
    "All searches are composed of the following optional parameters.  All string parameters default to an empty string,\n",
    "which effectively acts like a * wildcard.  In other words, by not specifying a parameter, you will be running an unbound\n",
    "search with no constraints.  This will demonstrated more clearly in the search examples below.\n",
    "\n",
    "Notice there are 2 exceptions to the string rule, **n_results** and **offset**.  These two parameters limit the number\n",
    "of records returned and provide an offset to skip the first N records.  Combining these two parameters allow you to\n",
    "paginate the search results.\n",
    "\n",
    "#### Search Parameters\n",
    "* common_name (str)\n",
    "* scientific_name (str)\n",
    "* genus (str)\n",
    "* family (str)\n",
    "* collector_name (str)\n",
    "* collector_number (str)\n",
    "* collection_year (str)\n",
    "* n_results (integer), default: 25\n",
    "* offset (integer), default: 0\n",
    "\n",
    "Specimen searches return a list of matches where each element of the list is an object of type SpecimenSearchRecord\n",
    "(namedtuple).  Each record should be a unique result of the query with no duplicates.\n",
    "\n",
    "#### SpecimenSearchRecord Fields\n",
    "* 'identity'\n",
    "* 'catalog_number',\n",
    "* 'family'\n",
    "* 'genus'\n",
    "* 'collectors'\n",
    "* 'place_name'\n",
    "* 'species_epithet'\n",
    "* 'infra_rank'\n",
    "* 'infra_name'\n",
    "* 'identification_qualifier'\n",
    "* 'plant_id'\n",
    "* 'status'\n",
    "* 'county_district'\n",
    "* 'collectors_number'\n",
    "* 'collection_date'\n",
    "* 'locality'\n",
    "\n",
    "You might be looking at that list and wondering what happend to the common name.  As it turns out, the common name can\n",
    "vary and multiple common names can be attached to the exact same species and variant of plant.  The Herbarium folks\n",
    "decided they did not want to see this duplication in the results, so for all intents and purposes,\n",
    "multiple records that are the same in all ways except the common name are the same record.\n",
    "\n",
    "##### Developer's Note: Currently, I don't actually know what all these fields are used for as many of them were connected to the legacy database setup, but may change in the near future as everything is migrated to the Specify export database.  I am working with Bev Walters (head at Herbarium) to determine which fields are useful, and potentially new fields to add in order to make the search queries more useful."
   ]
  },
  {
   "cell_type": "markdown",
   "metadata": {
    "pycharm": {}
   },
   "source": [
    "***\n",
    "### Search Examples\n",
    "Here we'll demonstrate the basics of running a specimen search via the database object **MIFLORA_DB** and inspecting\n",
    "the results.\n",
    "\n",
    "First, we'll setup some handy helper functions to make looking at the specimen search results a little easier."
   ]
  },
  {
   "cell_type": "code",
   "execution_count": 8,
   "metadata": {
    "pycharm": {
     "is_executing": false
    }
   },
   "outputs": [],
   "source": [
    "def print_record_count(specimen_records):\n",
    "    print(\"Number of records: {0}\".format(len(specimen_records)))\n",
    "    \n",
    "def print_records(specimen_records):\n",
    "    i = 1\n",
    "    \n",
    "    for r in specimen_records:\n",
    "        print(\"[{0}] Family: {1}, Genus: {2}, Collector(s): {3}\".format(i, r.family, r.genus, r.collectors))\n",
    "        i += 1\n",
    "        \n",
    "def pretty_sql_print(query):\n",
    "    print(sqlparse.format(str(query), reindent=True, keyword_case='upper'))"
   ]
  },
  {
   "cell_type": "markdown",
   "metadata": {
    "pycharm": {}
   },
   "source": [
    "At its most basic, a search comprises of a set of constrainsts.  Most of the constraints operate like a\n",
    "case-insensitive wildcard match where we're just looking for the presence of the string anywhere in a given database\n",
    "column.  For example, searching for a common name of \"MAPLE\" or \"mAplE\" will match a column containing\n",
    "\"Super Cool Maple Tree\".  The exception to this is the **collector_number** field which does an exact string match.\n",
    "\n",
    "Let's start out with a pretty typical search"
   ]
  },
  {
   "cell_type": "code",
   "execution_count": 9,
   "metadata": {
    "pycharm": {
     "is_executing": false
    }
   },
   "outputs": [
    {
     "name": "stdout",
     "output_type": "stream",
     "text": [
      "Number of records: 5\n"
     ]
    }
   ],
   "source": [
    "specimen_records = miflora_db.search_specimens(common_name='Maple', collection_year='1952', collector_name='Voss')\n",
    "print_record_count(specimen_records)"
   ]
  },
  {
   "cell_type": "markdown",
   "metadata": {
    "pycharm": {}
   },
   "source": [
    "Now let's take a peek at the results."
   ]
  },
  {
   "cell_type": "code",
   "execution_count": 10,
   "metadata": {
    "pycharm": {
     "is_executing": false
    }
   },
   "outputs": [
    {
     "data": {
      "text/plain": [
       "[SpecimenSearchRecord(identity=129622, catalog_number='1246675', family='Adoxaceae', genus='Viburnum', collectors='Edward G. Voss', place_name='Huron County', species_epithet='acerifolium', infra_rank=None, infra_name=None, identification_qualifier=None, plant_id=13, status=None, county_district='Huron', collectors_number='1122', collection_date='05/11/1952', locality='\"Wilderness Arboretum,\" ca. 14 miles NW of Bad Axe  in sec. 7, Hume Township.)'),\n",
       " SpecimenSearchRecord(identity=293250, catalog_number='1246843', family='Adoxaceae', genus='Viburnum', collectors='Edward G. Voss', place_name='Huron County', species_epithet='acerifolium', infra_rank=None, infra_name=None, identification_qualifier=None, plant_id=13, status=None, county_district='Huron', collectors_number='1468', collection_date='09/27/1952', locality='\"Wilderness Arboretum,\" ca. 14 miles NW of Bad Axe  in sec. 7, Hume Township.)'),\n",
       " SpecimenSearchRecord(identity=359264, catalog_number=None, family='Sapindaceae', genus='Acer', collectors='Edward G. Voss', place_name='Emmet County', species_epithet='pensylvanicum', infra_rank=None, infra_name=None, identification_qualifier=None, plant_id=2651, status=None, county_district='Emmet', collectors_number='1136', collection_date='05/17/1952', locality='Near Bliss Fire Tower, Bliss Township'),\n",
       " SpecimenSearchRecord(identity=359500, catalog_number='1333309', family='Sapindaceae', genus='Acer', collectors='Edward G. Voss', place_name='Huron County', species_epithet='rubrum', infra_rank='var.', infra_name='rubrum', identification_qualifier=None, plant_id=2654, status=None, county_district='Huron', collectors_number='1261', collection_date='06/28/1952', locality='The \"Wilderness Arboretum,\" about 14 miles NW of Bad Axe'),\n",
       " SpecimenSearchRecord(identity=410212, catalog_number='1005604', family='Amaranthaceae', genus='Chenopodium', collectors='Edward G. Voss', place_name='Emmet County', species_epithet='simplex', infra_rank=None, infra_name=None, identification_qualifier=None, plant_id=71, status=None, county_district='Emmet', collectors_number='1392', collection_date='08/16/1952', locality='Maple River Twp.')]"
      ]
     },
     "execution_count": 10,
     "metadata": {},
     "output_type": "execute_result"
    }
   ],
   "source": [
    "specimen_records"
   ]
  },
  {
   "cell_type": "markdown",
   "metadata": {
    "pycharm": {}
   },
   "source": [
    "Woah!  Too much info all at once!  If you're using the PyCharm debugger, then you can easily browse the data structures,\n",
    "but in a notebook we need to do something different.\n",
    "\n",
    "Looking at individual records as dictionaries is much more friendly."
   ]
  },
  {
   "cell_type": "code",
   "execution_count": 11,
   "metadata": {
    "pycharm": {
     "is_executing": false
    }
   },
   "outputs": [
    {
     "data": {
      "text/plain": [
       "OrderedDict([('identity', 129622),\n",
       "             ('catalog_number', '1246675'),\n",
       "             ('family', 'Adoxaceae'),\n",
       "             ('genus', 'Viburnum'),\n",
       "             ('collectors', 'Edward G. Voss'),\n",
       "             ('place_name', 'Huron County'),\n",
       "             ('species_epithet', 'acerifolium'),\n",
       "             ('infra_rank', None),\n",
       "             ('infra_name', None),\n",
       "             ('identification_qualifier', None),\n",
       "             ('plant_id', 13),\n",
       "             ('status', None),\n",
       "             ('county_district', 'Huron'),\n",
       "             ('collectors_number', '1122'),\n",
       "             ('collection_date', '05/11/1952'),\n",
       "             ('locality',\n",
       "              '\"Wilderness Arboretum,\" ca. 14 miles NW of Bad Axe  in sec. 7, Hume Township.)')])"
      ]
     },
     "execution_count": 11,
     "metadata": {},
     "output_type": "execute_result"
    }
   ],
   "source": [
    "specimen_records[0]._asdict()"
   ]
  },
  {
   "cell_type": "markdown",
   "metadata": {
    "pycharm": {}
   },
   "source": [
    "This is OK, but we only see one record at a time and using this format with lots of records might be unwieldy. Instead,\n",
    "we can print out a more concise list of all the records using our handy helper function defined above.\n",
    "\n",
    "#### Developer's Note: Currently, I'm working on a pretty print function to iterate over a set of records and print them out as an ASCII table, but this is not complete.  The 'tabulate' package looks pretty promising."
   ]
  },
  {
   "cell_type": "code",
   "execution_count": 12,
   "metadata": {
    "pycharm": {
     "is_executing": false
    }
   },
   "outputs": [
    {
     "name": "stdout",
     "output_type": "stream",
     "text": [
      "[1] Family: Adoxaceae, Genus: Viburnum, Collector(s): Edward G. Voss\n",
      "[2] Family: Adoxaceae, Genus: Viburnum, Collector(s): Edward G. Voss\n",
      "[3] Family: Sapindaceae, Genus: Acer, Collector(s): Edward G. Voss\n",
      "[4] Family: Sapindaceae, Genus: Acer, Collector(s): Edward G. Voss\n",
      "[5] Family: Amaranthaceae, Genus: Chenopodium, Collector(s): Edward G. Voss\n"
     ]
    }
   ],
   "source": [
    "print_records(specimen_records)"
   ]
  },
  {
   "cell_type": "markdown",
   "metadata": {
    "pycharm": {}
   },
   "source": [
    "#### Limiting the Number of Results\n",
    "\n",
    "By default, the specimen search only returns a maximum of 25 results unless otherwise specified.  The idea being that\n",
    "the database is huge, and a lazy query might unintentially return tens of thousands of results, thus needlessly taxing\n",
    "the server(s).\n",
    "\n",
    "We can change the maximum number of results by modifying the **n_results** parameter to anything in the range [0,N]\n",
    "where N can be any positive integer value.\n",
    "__Note: 0 is a special number in that it tells the search function to return **all** records.__\n",
    "\n",
    "Here are a few examples varying the number of results using the same search."
   ]
  },
  {
   "cell_type": "code",
   "execution_count": 15,
   "metadata": {
    "pycharm": {
     "is_executing": false
    }
   },
   "outputs": [
    {
     "name": "stdout",
     "output_type": "stream",
     "text": [
      "Number of records: 25\n"
     ]
    }
   ],
   "source": [
    "specimen_records = miflora_db.search_specimens(n_results=25, collection_year='1952')\n",
    "print_record_count(specimen_records)"
   ]
  },
  {
   "cell_type": "code",
   "execution_count": null,
   "metadata": {
    "pycharm": {
     "is_executing": false
    }
   },
   "outputs": [],
   "source": [
    "specimen_records = miflora_db.search_specimens(n_results=200, collection_year='1952')\n",
    "print_record_count(specimen_records)"
   ]
  },
  {
   "cell_type": "code",
   "execution_count": null,
   "metadata": {
    "pycharm": {
     "is_executing": false
    }
   },
   "outputs": [],
   "source": [
    "specimen_records = miflora_db.search_specimens(n_results=0, collection_year='1952')\n",
    "print_record_count(specimen_records)"
   ]
  },
  {
   "cell_type": "markdown",
   "metadata": {
    "pycharm": {}
   },
   "source": [
    "#### Paginating the Results\n",
    "That last search probably has more records than we want at once.  In addition, we do not want to needlessly tax the\n",
    "server when we most likely want to see chunks of records.  This is important when displaying results on a webpage.\n",
    "\n",
    "Pagination the act of chunking up the results, and is easy to do by using both the **n_results** and **offset**\n",
    "parameters.\n",
    "\n",
    "Let's paginate that search by retrieving the first 10 records in 2 separate chunks (for display purposes)."
   ]
  },
  {
   "cell_type": "code",
   "execution_count": null,
   "metadata": {
    "pycharm": {
     "is_executing": false
    }
   },
   "outputs": [],
   "source": [
    "chunk1 = miflora_db.search_specimens(collection_year='1952', n_results=10, offset=0)\n",
    "chunk2 = miflora_db.search_specimens(collection_year='1952', n_results=10, offset=10)"
   ]
  },
  {
   "cell_type": "code",
   "execution_count": null,
   "metadata": {
    "pycharm": {
     "is_executing": false
    }
   },
   "outputs": [],
   "source": [
    "print_records(chunk1)"
   ]
  },
  {
   "cell_type": "code",
   "execution_count": null,
   "metadata": {
    "pycharm": {
     "is_executing": false
    }
   },
   "outputs": [],
   "source": [
    "print_records(chunk2)"
   ]
  },
  {
   "cell_type": "markdown",
   "metadata": {
    "pycharm": {
     "metadata": false,
     "name": "#%% md\n"
    }
   },
   "source": [
    "#### Counting Records\n",
    "Sometimes you want to know how many results a particular query will give without making the search itself."
   ]
  },
  {
   "cell_type": "code",
   "execution_count": null,
   "metadata": {
    "pycharm": {
     "is_executing": false,
     "metadata": false,
     "name": "#%%\n"
    }
   },
   "outputs": [],
   "source": [
    "n_records = miflora_db.specimen_search_count(collection_year='1952', n_results=0)\n",
    "print('Number of records: {0}'.format(n_records))"
   ]
  },
  {
   "cell_type": "markdown",
   "metadata": {
    "pycharm": {}
   },
   "source": [
    "#### Viewing the Raw SQL\n",
    "\n",
    "All searching and counting functions rely on a underlying method that generates the SQL that is executed.  This lets you\n",
    "either inspect the SQL before running a query or allowing you to manipulate the SQL prior to running a search."
   ]
  },
  {
   "cell_type": "code",
   "execution_count": null,
   "metadata": {
    "pycharm": {
     "is_executing": false
    }
   },
   "outputs": [],
   "source": [
    "query = miflora_db.make_specimen_search(collection_year='1952', n_results=2)"
   ]
  },
  {
   "cell_type": "markdown",
   "metadata": {
    "pycharm": {}
   },
   "source": [
    "The resultant query value is actually a [SQLAlchemy Query](https://docs.sqlalchemy.org/en/13/orm/query.html) object, so\n",
    "you can run any of the functions provided by the API in the event you want total control of the object.\n",
    "\n",
    "Printing the query directly will give the the raw SQL, but it's a bit ugly."
   ]
  },
  {
   "cell_type": "code",
   "execution_count": null,
   "metadata": {
    "pycharm": {
     "is_executing": false
    }
   },
   "outputs": [],
   "source": [
    "print(query)"
   ]
  },
  {
   "cell_type": "markdown",
   "metadata": {
    "pycharm": {}
   },
   "source": [
    "Buy using the [sqlparse](https://pypi.org/project/sqlparse/) package we can make it much easier to read.  See the method\n",
    "definition section above for how the package is being used here."
   ]
  },
  {
   "cell_type": "code",
   "execution_count": null,
   "metadata": {
    "pycharm": {
     "is_executing": false
    }
   },
   "outputs": [],
   "source": [
    "pretty_sql_print(query)"
   ]
  }
 ],
 "metadata": {
  "kernelspec": {
   "display_name": "Python 3",
   "language": "python",
   "name": "python3"
  },
  "language_info": {
   "codemirror_mode": {
    "name": "ipython",
    "version": 3
   },
   "file_extension": ".py",
   "mimetype": "text/x-python",
   "name": "python",
   "nbconvert_exporter": "python",
   "pygments_lexer": "ipython3",
   "version": "3.7.3"
  },
  "pycharm": {
   "stem_cell": {
    "cell_type": "raw",
    "source": [],
    "metadata": {
     "collapsed": false
    }
   }
  }
 },
 "nbformat": 4,
 "nbformat_minor": 1
}