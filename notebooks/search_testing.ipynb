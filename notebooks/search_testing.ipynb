{
 "cells": [
  {
   "cell_type": "code",
   "execution_count": 1,
   "metadata": {
    "pycharm": {
     "is_executing": false
    }
   },
   "outputs": [],
   "source": [
    "import sys\n",
    "sys.path.append(\"../\")\n",
    "from db.miflora import MIFloraDB\n",
    "from db.core import SpecimenSearchRecord\n",
    "import json\n",
    "import sqlparse\n",
    "from sqlalchemy.orm.query import Query\n",
    "from sqlalchemy import create_engine, func\n",
    "from db.miflora import SpecimenRecords, MIFlora2010, FamilyGenus, MIFLORA_BASE, PageTextSpecies\n",
    "\n",
    "def print_query(query):\n",
    "    print(sqlparse.format(str(query), reindent=True, keyword_case='upper'))"
   ]
  },
  {
   "cell_type": "code",
   "execution_count": 2,
   "metadata": {},
   "outputs": [],
   "source": [
    "credentials_file = \"../mif_creds.p\"\n",
    "miflora_db = MIFloraDB(credentials_file=credentials_file)\n",
    "miflora_db.kickstart()"
   ]
  },
  {
   "cell_type": "code",
   "execution_count": null,
   "metadata": {
    "pycharm": {
     "is_executing": false
    }
   },
   "outputs": [],
   "source": [
    "def list_locations(plant_id):\n",
    "    q = miflora_db.session.query(mf.CountySpeciesLookup.place_name, mf.CountySpeciesLookup.place_name_type)\n",
    "    q = q.join(mf.CoSpecies,\n",
    "               mf.CountySpeciesLookup.place_name_db == mf.CoSpecies.county)\n",
    "    q = q.filter(mf.CoSpecies.plant_id == plant_id)\n",
    "    q = q.distinct().order_by(mf.CountySpeciesLookup.island_county_sort, mf.CountySpeciesLookup.place_name_type)\n",
    "    \n",
    "    print_query(q)\n",
    "    \n",
    "    return q.all()"
   ]
  },
  {
   "cell_type": "code",
   "execution_count": null,
   "metadata": {},
   "outputs": [],
   "source": [
    "def list_synonyms(plant_id):\n",
    "    q = miflora_db.session.query(mf.Synonyms.syn_species).filter(mf.Synonyms.plant_id == plant_id)\n",
    "    q = q.distinct().order_by(mf.Synonyms.plant_id)\n",
    "    \n",
    "    print_query(q)\n",
    "    \n",
    "    return q.all()"
   ]
  },
  {
   "cell_type": "code",
   "execution_count": null,
   "metadata": {},
   "outputs": [],
   "source": [
    "def get_specimen_record(specimen_id):\n",
    "    q = miflora_db.session.query(SpecimenRecords, FamilyGenus.family, MIFlora2010.plant_id)\n",
    "    q = q.outerjoin(MIFlora2010, SpecimenRecords.extra_numerical1 == MIFlora2010.plant_id)\n",
    "    q = q.outerjoin(FamilyGenus, SpecimenRecords.genus == FamilyGenus.genus)\n",
    "    q = q.filter(SpecimenRecords.identity == specimen_id)\n",
    "    \n",
    "    print_query(q)\n",
    "    \n",
    "    return q.all()"
   ]
  },
  {
   "cell_type": "code",
   "execution_count": null,
   "metadata": {},
   "outputs": [],
   "source": [
    "def list_table_columns(table_name):\n",
    "    columns = list()\n",
    "    \n",
    "    for column_name in table_name.__dict__.keys():\n",
    "        if not column_name.startswith('_'):\n",
    "            columns.append(column_name)\n",
    "\n",
    "    return columns"
   ]
  },
  {
   "cell_type": "code",
   "execution_count": null,
   "metadata": {},
   "outputs": [],
   "source": [
    "def get_flora_species_text(species_id):\n",
    "    search_query = miflora_db.session.query(PageTextSpecies.text)\n",
    "    db_results = search_query.filter(PageTextSpecies.species_id == species_id).first()\n",
    "    \n",
    "    return db_results"
   ]
  },
  {
   "cell_type": "code",
   "execution_count": 4,
   "metadata": {},
   "outputs": [
    {
     "data": {
      "text/plain": [
       "'<p>Roadsides, fields, and gravelly banks. The oldest Michigan collection seen is from Eaton Co. in 1924. This Eurasian species is locally introduced in North America.</p>\\n'"
      ]
     },
     "execution_count": 4,
     "metadata": {},
     "output_type": "execute_result"
    }
   ],
   "source": [
    "miflora_db.get_flora_species_text(267)"
   ]
  },
  {
   "cell_type": "code",
   "execution_count": null,
   "metadata": {},
   "outputs": [],
   "source": []
  }
 ],
 "metadata": {
  "kernelspec": {
   "display_name": "Python 3",
   "language": "python",
   "name": "python3"
  },
  "language_info": {
   "codemirror_mode": {
    "name": "ipython",
    "version": 3
   },
   "file_extension": ".py",
   "mimetype": "text/x-python",
   "name": "python",
   "nbconvert_exporter": "python",
   "pygments_lexer": "ipython3",
   "version": "3.7.3"
  },
  "pycharm": {
   "stem_cell": {
    "cell_type": "raw",
    "metadata": {
     "collapsed": false
    },
    "source": []
   }
  }
 },
 "nbformat": 4,
 "nbformat_minor": 1
}
