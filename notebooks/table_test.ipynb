{
  "cells": [
    {
      "cell_type": "code",
      "execution_count": 1,
      "metadata": {
        "pycharm": {
          "is_executing": false
        }
      },
      "outputs": [],
      "source": "# Adds the directory above to the path so that this notebook can see all my \"wonderful\" code.\nimport sys\nsys.path.append(\"../\")"
    },
    {
      "cell_type": "code",
      "execution_count": 2,
      "outputs": [],
      "source": "from db.specify import SpecifyDB\nimport db.specify as spt\nimport pickle",
      "metadata": {
        "pycharm": {
          "metadata": false,
          "name": "#%%\n",
          "is_executing": false
        }
      }
    },
    {
      "cell_type": "code",
      "execution_count": 3,
      "outputs": [],
      "source": "# Read in the credentials stored on disk so we don\u0027t have to type in a password or\n# hard-code one in a code file.\ncredentials \u003d pickle.load(open(\u0027../creds.p\u0027, \u0027rb\u0027))",
      "metadata": {
        "pycharm": {
          "metadata": false,
          "name": "#%%\n",
          "is_executing": false
        }
      }
    },
    {
      "cell_type": "code",
      "execution_count": 4,
      "metadata": {
        "pycharm": {
          "is_executing": false,
          "metadata": false,
          "name": "#%%\n"
        }
      },
      "outputs": [
        {
          "name": "stdout",
          "text": [
            "Specify URL\nPreparing base\n"
          ],
          "output_type": "stream"
        }
      ],
      "source": "specify_db \u003d SpecifyDB(credentials[\u0027specify_pass\u0027])"
    },
    {
      "cell_type": "code",
      "execution_count": 5,
      "outputs": [],
      "source": "r \u003d specify_db.get_top(spt.SpecifyRecords)",
      "metadata": {
        "pycharm": {
          "metadata": false,
          "name": "#%%\n",
          "is_executing": false
        }
      }
    },
    {
      "cell_type": "code",
      "execution_count": 7,
      "outputs": [
        {
          "name": "stdout",
          "text": [
            "SELECT tbl_michflora_export.`CatalogNumber` AS `tbl_michflora_export_CatalogNumber`, tbl_michflora_export.`CatalogedDate` AS `tbl_michflora_export_CatalogedDate`, tbl_michflora_export.`DetHistory` AS `tbl_michflora_export_DetHistory`, tbl_michflora_export.`DateLastModified` AS `tbl_michflora_export_DateLastModified`, tbl_michflora_export.`Sensitive` AS `tbl_michflora_export_Sensitive`, tbl_michflora_export.`DoNotMap` AS `tbl_michflora_export_DoNotMap`, tbl_michflora_export.`DeterminerLastName1` AS `tbl_michflora_export_DeterminerLastName1`, tbl_michflora_export.`DeterminedYear1` AS `tbl_michflora_export_DeterminedYear1`, tbl_michflora_export.`Family1` AS `tbl_michflora_export_Family1`, tbl_michflora_export.`Genus1` AS `tbl_michflora_export_Genus1`, tbl_michflora_export.`Species1` AS `tbl_michflora_export_Species1`, tbl_michflora_export.`Subspecies1` AS `tbl_michflora_export_Subspecies1`, tbl_michflora_export.`Variety1` AS `tbl_michflora_export_Variety1`, tbl_michflora_export.`Forma1` AS `tbl_michflora_export_Forma1`, tbl_michflora_export.`Current1` AS `tbl_michflora_export_Current1`, tbl_michflora_export.`Confidence1` AS `tbl_michflora_export_Confidence1`, tbl_michflora_export.`Remarks1` AS `tbl_michflora_export_Remarks1`, tbl_michflora_export.`Collectors` AS `tbl_michflora_export_Collectors`, tbl_michflora_export.`CollectorNumber` AS `tbl_michflora_export_CollectorNumber`, tbl_michflora_export.`CollectionDate` AS `tbl_michflora_export_CollectionDate`, tbl_michflora_export.`CollectionEndDate` AS `tbl_michflora_export_CollectionEndDate`, tbl_michflora_export.`Habitat` AS `tbl_michflora_export_Habitat`, tbl_michflora_export.`Country` AS `tbl_michflora_export_Country`, tbl_michflora_export.`State` AS `tbl_michflora_export_State`, tbl_michflora_export.`County` AS `tbl_michflora_export_County`, tbl_michflora_export.`LocalityName` AS `tbl_michflora_export_LocalityName`, tbl_michflora_export.`DeterminerLastName2` AS `tbl_michflora_export_DeterminerLastName2`, tbl_michflora_export.`DeterminedYear2` AS `tbl_michflora_export_DeterminedYear2`, tbl_michflora_export.`Family2` AS `tbl_michflora_export_Family2`, tbl_michflora_export.`Genus2` AS `tbl_michflora_export_Genus2`, tbl_michflora_export.`Species2` AS `tbl_michflora_export_Species2`, tbl_michflora_export.`Subspecies2` AS `tbl_michflora_export_Subspecies2`, tbl_michflora_export.`Variety2` AS `tbl_michflora_export_Variety2`, tbl_michflora_export.`Forma2` AS `tbl_michflora_export_Forma2`, tbl_michflora_export.`Current2` AS `tbl_michflora_export_Current2`, tbl_michflora_export.`Confidence2` AS `tbl_michflora_export_Confidence2`, tbl_michflora_export.`Remarks2` AS `tbl_michflora_export_Remarks2`, tbl_michflora_export.`DeterminerLastName3` AS `tbl_michflora_export_DeterminerLastName3`, tbl_michflora_export.`DeterminedYear3` AS `tbl_michflora_export_DeterminedYear3`, tbl_michflora_export.`Family3` AS `tbl_michflora_export_Family3`, tbl_michflora_export.`Genus3` AS `tbl_michflora_export_Genus3`, tbl_michflora_export.`Species3` AS `tbl_michflora_export_Species3`, tbl_michflora_export.`Subspecies3` AS `tbl_michflora_export_Subspecies3`, tbl_michflora_export.`Variety3` AS `tbl_michflora_export_Variety3`, tbl_michflora_export.`Forma3` AS `tbl_michflora_export_Forma3`, tbl_michflora_export.`Current3` AS `tbl_michflora_export_Current3`, tbl_michflora_export.`Confidence3` AS `tbl_michflora_export_Confidence3`, tbl_michflora_export.`Remarks3` AS `tbl_michflora_export_Remarks3`, tbl_michflora_export.`Latitude` AS `tbl_michflora_export_Latitude`, tbl_michflora_export.`Longitude` AS `tbl_michflora_export_Longitude`, tbl_michflora_export.`Township` AS `tbl_michflora_export_Township`, tbl_michflora_export.`Range` AS `tbl_michflora_export_Range`, tbl_michflora_export.`Section` AS `tbl_michflora_export_Section`, tbl_michflora_export.`SectionPart` AS `tbl_michflora_export_SectionPart`, tbl_michflora_export.`VerbatimCoordinates` AS `tbl_michflora_export_VerbatimCoordinates`, tbl_michflora_export.`MinElevation` AS `tbl_michflora_export_MinElevation`, tbl_michflora_export.`MaxElevation` AS `tbl_michflora_export_MaxElevation`, tbl_michflora_export.`ElevationUnits` AS `tbl_michflora_export_ElevationUnits`, tbl_michflora_export.`AccompanyingCollectors` AS `tbl_michflora_export_AccompanyingCollectors`, tbl_michflora_export.`MinDepth` AS `tbl_michflora_export_MinDepth`, tbl_michflora_export.`MaxDepth` AS `tbl_michflora_export_MaxDepth`, tbl_michflora_export.`DepthUnits` AS `tbl_michflora_export_DepthUnits`, tbl_michflora_export.`SpecimenNotes` AS `tbl_michflora_export_SpecimenNotes`, tbl_michflora_export.`CuratorialNotes` AS `tbl_michflora_export_CuratorialNotes`, tbl_michflora_export.`Herbaria` AS `tbl_michflora_export_Herbaria`, tbl_michflora_export.dttm_specify_export AS tbl_michflora_export_dttm_specify_export \nFROM tbl_michflora_export\n"
          ],
          "output_type": "stream"
        }
      ],
      "source": "# Washtenaw county\nq \u003d specify_db.session.query(spt.SpecifyRecords)\nprint(q)\nx \u003d q.limit(10).all()",
      "metadata": {
        "pycharm": {
          "metadata": false,
          "name": "#%%\n",
          "is_executing": false
        }
      }
    },
    {
      "cell_type": "code",
      "execution_count": 8,
      "outputs": [
        {
          "name": "stdout",
          "text": [
            "SELECT tbl_michflora_export.`CatalogNumber` AS `tbl_michflora_export_CatalogNumber`, tbl_michflora_export.`CatalogedDate` AS `tbl_michflora_export_CatalogedDate`, tbl_michflora_export.`DetHistory` AS `tbl_michflora_export_DetHistory`, tbl_michflora_export.`DateLastModified` AS `tbl_michflora_export_DateLastModified`, tbl_michflora_export.`Sensitive` AS `tbl_michflora_export_Sensitive`, tbl_michflora_export.`DoNotMap` AS `tbl_michflora_export_DoNotMap`, tbl_michflora_export.`DeterminerLastName1` AS `tbl_michflora_export_DeterminerLastName1`, tbl_michflora_export.`DeterminedYear1` AS `tbl_michflora_export_DeterminedYear1`, tbl_michflora_export.`Family1` AS `tbl_michflora_export_Family1`, tbl_michflora_export.`Genus1` AS `tbl_michflora_export_Genus1`, tbl_michflora_export.`Species1` AS `tbl_michflora_export_Species1`, tbl_michflora_export.`Subspecies1` AS `tbl_michflora_export_Subspecies1`, tbl_michflora_export.`Variety1` AS `tbl_michflora_export_Variety1`, tbl_michflora_export.`Forma1` AS `tbl_michflora_export_Forma1`, tbl_michflora_export.`Current1` AS `tbl_michflora_export_Current1`, tbl_michflora_export.`Confidence1` AS `tbl_michflora_export_Confidence1`, tbl_michflora_export.`Remarks1` AS `tbl_michflora_export_Remarks1`, tbl_michflora_export.`Collectors` AS `tbl_michflora_export_Collectors`, tbl_michflora_export.`CollectorNumber` AS `tbl_michflora_export_CollectorNumber`, tbl_michflora_export.`CollectionDate` AS `tbl_michflora_export_CollectionDate`, tbl_michflora_export.`CollectionEndDate` AS `tbl_michflora_export_CollectionEndDate`, tbl_michflora_export.`Habitat` AS `tbl_michflora_export_Habitat`, tbl_michflora_export.`Country` AS `tbl_michflora_export_Country`, tbl_michflora_export.`State` AS `tbl_michflora_export_State`, tbl_michflora_export.`County` AS `tbl_michflora_export_County`, tbl_michflora_export.`LocalityName` AS `tbl_michflora_export_LocalityName`, tbl_michflora_export.`DeterminerLastName2` AS `tbl_michflora_export_DeterminerLastName2`, tbl_michflora_export.`DeterminedYear2` AS `tbl_michflora_export_DeterminedYear2`, tbl_michflora_export.`Family2` AS `tbl_michflora_export_Family2`, tbl_michflora_export.`Genus2` AS `tbl_michflora_export_Genus2`, tbl_michflora_export.`Species2` AS `tbl_michflora_export_Species2`, tbl_michflora_export.`Subspecies2` AS `tbl_michflora_export_Subspecies2`, tbl_michflora_export.`Variety2` AS `tbl_michflora_export_Variety2`, tbl_michflora_export.`Forma2` AS `tbl_michflora_export_Forma2`, tbl_michflora_export.`Current2` AS `tbl_michflora_export_Current2`, tbl_michflora_export.`Confidence2` AS `tbl_michflora_export_Confidence2`, tbl_michflora_export.`Remarks2` AS `tbl_michflora_export_Remarks2`, tbl_michflora_export.`DeterminerLastName3` AS `tbl_michflora_export_DeterminerLastName3`, tbl_michflora_export.`DeterminedYear3` AS `tbl_michflora_export_DeterminedYear3`, tbl_michflora_export.`Family3` AS `tbl_michflora_export_Family3`, tbl_michflora_export.`Genus3` AS `tbl_michflora_export_Genus3`, tbl_michflora_export.`Species3` AS `tbl_michflora_export_Species3`, tbl_michflora_export.`Subspecies3` AS `tbl_michflora_export_Subspecies3`, tbl_michflora_export.`Variety3` AS `tbl_michflora_export_Variety3`, tbl_michflora_export.`Forma3` AS `tbl_michflora_export_Forma3`, tbl_michflora_export.`Current3` AS `tbl_michflora_export_Current3`, tbl_michflora_export.`Confidence3` AS `tbl_michflora_export_Confidence3`, tbl_michflora_export.`Remarks3` AS `tbl_michflora_export_Remarks3`, tbl_michflora_export.`Latitude` AS `tbl_michflora_export_Latitude`, tbl_michflora_export.`Longitude` AS `tbl_michflora_export_Longitude`, tbl_michflora_export.`Township` AS `tbl_michflora_export_Township`, tbl_michflora_export.`Range` AS `tbl_michflora_export_Range`, tbl_michflora_export.`Section` AS `tbl_michflora_export_Section`, tbl_michflora_export.`SectionPart` AS `tbl_michflora_export_SectionPart`, tbl_michflora_export.`VerbatimCoordinates` AS `tbl_michflora_export_VerbatimCoordinates`, tbl_michflora_export.`MinElevation` AS `tbl_michflora_export_MinElevation`, tbl_michflora_export.`MaxElevation` AS `tbl_michflora_export_MaxElevation`, tbl_michflora_export.`ElevationUnits` AS `tbl_michflora_export_ElevationUnits`, tbl_michflora_export.`AccompanyingCollectors` AS `tbl_michflora_export_AccompanyingCollectors`, tbl_michflora_export.`MinDepth` AS `tbl_michflora_export_MinDepth`, tbl_michflora_export.`MaxDepth` AS `tbl_michflora_export_MaxDepth`, tbl_michflora_export.`DepthUnits` AS `tbl_michflora_export_DepthUnits`, tbl_michflora_export.`SpecimenNotes` AS `tbl_michflora_export_SpecimenNotes`, tbl_michflora_export.`CuratorialNotes` AS `tbl_michflora_export_CuratorialNotes`, tbl_michflora_export.`Herbaria` AS `tbl_michflora_export_Herbaria`, tbl_michflora_export.dttm_specify_export AS tbl_michflora_export_dttm_specify_export \nFROM tbl_michflora_export \nWHERE lower(tbl_michflora_export.`Country`) LIKE lower(%(Country_1)s)\n228776\n"
          ],
          "output_type": "stream"
        }
      ],
      "source": "# Plus the USA\nq2 \u003d q.filter(spt.SpecifyRecords.country.ilike(\u0027%USA%\u0027))\nprint(q2)\nx \u003d q2.limit(10).all()\nprint(q2.count())",
      "metadata": {
        "pycharm": {
          "metadata": false,
          "name": "#%%\n",
          "is_executing": false
        }
      }
    },
    {
      "cell_type": "code",
      "execution_count": 9,
      "outputs": [
        {
          "name": "stdout",
          "text": [
            "SELECT tbl_michflora_export.`CatalogNumber` AS `tbl_michflora_export_CatalogNumber`, tbl_michflora_export.`CatalogedDate` AS `tbl_michflora_export_CatalogedDate`, tbl_michflora_export.`DetHistory` AS `tbl_michflora_export_DetHistory`, tbl_michflora_export.`DateLastModified` AS `tbl_michflora_export_DateLastModified`, tbl_michflora_export.`Sensitive` AS `tbl_michflora_export_Sensitive`, tbl_michflora_export.`DoNotMap` AS `tbl_michflora_export_DoNotMap`, tbl_michflora_export.`DeterminerLastName1` AS `tbl_michflora_export_DeterminerLastName1`, tbl_michflora_export.`DeterminedYear1` AS `tbl_michflora_export_DeterminedYear1`, tbl_michflora_export.`Family1` AS `tbl_michflora_export_Family1`, tbl_michflora_export.`Genus1` AS `tbl_michflora_export_Genus1`, tbl_michflora_export.`Species1` AS `tbl_michflora_export_Species1`, tbl_michflora_export.`Subspecies1` AS `tbl_michflora_export_Subspecies1`, tbl_michflora_export.`Variety1` AS `tbl_michflora_export_Variety1`, tbl_michflora_export.`Forma1` AS `tbl_michflora_export_Forma1`, tbl_michflora_export.`Current1` AS `tbl_michflora_export_Current1`, tbl_michflora_export.`Confidence1` AS `tbl_michflora_export_Confidence1`, tbl_michflora_export.`Remarks1` AS `tbl_michflora_export_Remarks1`, tbl_michflora_export.`Collectors` AS `tbl_michflora_export_Collectors`, tbl_michflora_export.`CollectorNumber` AS `tbl_michflora_export_CollectorNumber`, tbl_michflora_export.`CollectionDate` AS `tbl_michflora_export_CollectionDate`, tbl_michflora_export.`CollectionEndDate` AS `tbl_michflora_export_CollectionEndDate`, tbl_michflora_export.`Habitat` AS `tbl_michflora_export_Habitat`, tbl_michflora_export.`Country` AS `tbl_michflora_export_Country`, tbl_michflora_export.`State` AS `tbl_michflora_export_State`, tbl_michflora_export.`County` AS `tbl_michflora_export_County`, tbl_michflora_export.`LocalityName` AS `tbl_michflora_export_LocalityName`, tbl_michflora_export.`DeterminerLastName2` AS `tbl_michflora_export_DeterminerLastName2`, tbl_michflora_export.`DeterminedYear2` AS `tbl_michflora_export_DeterminedYear2`, tbl_michflora_export.`Family2` AS `tbl_michflora_export_Family2`, tbl_michflora_export.`Genus2` AS `tbl_michflora_export_Genus2`, tbl_michflora_export.`Species2` AS `tbl_michflora_export_Species2`, tbl_michflora_export.`Subspecies2` AS `tbl_michflora_export_Subspecies2`, tbl_michflora_export.`Variety2` AS `tbl_michflora_export_Variety2`, tbl_michflora_export.`Forma2` AS `tbl_michflora_export_Forma2`, tbl_michflora_export.`Current2` AS `tbl_michflora_export_Current2`, tbl_michflora_export.`Confidence2` AS `tbl_michflora_export_Confidence2`, tbl_michflora_export.`Remarks2` AS `tbl_michflora_export_Remarks2`, tbl_michflora_export.`DeterminerLastName3` AS `tbl_michflora_export_DeterminerLastName3`, tbl_michflora_export.`DeterminedYear3` AS `tbl_michflora_export_DeterminedYear3`, tbl_michflora_export.`Family3` AS `tbl_michflora_export_Family3`, tbl_michflora_export.`Genus3` AS `tbl_michflora_export_Genus3`, tbl_michflora_export.`Species3` AS `tbl_michflora_export_Species3`, tbl_michflora_export.`Subspecies3` AS `tbl_michflora_export_Subspecies3`, tbl_michflora_export.`Variety3` AS `tbl_michflora_export_Variety3`, tbl_michflora_export.`Forma3` AS `tbl_michflora_export_Forma3`, tbl_michflora_export.`Current3` AS `tbl_michflora_export_Current3`, tbl_michflora_export.`Confidence3` AS `tbl_michflora_export_Confidence3`, tbl_michflora_export.`Remarks3` AS `tbl_michflora_export_Remarks3`, tbl_michflora_export.`Latitude` AS `tbl_michflora_export_Latitude`, tbl_michflora_export.`Longitude` AS `tbl_michflora_export_Longitude`, tbl_michflora_export.`Township` AS `tbl_michflora_export_Township`, tbl_michflora_export.`Range` AS `tbl_michflora_export_Range`, tbl_michflora_export.`Section` AS `tbl_michflora_export_Section`, tbl_michflora_export.`SectionPart` AS `tbl_michflora_export_SectionPart`, tbl_michflora_export.`VerbatimCoordinates` AS `tbl_michflora_export_VerbatimCoordinates`, tbl_michflora_export.`MinElevation` AS `tbl_michflora_export_MinElevation`, tbl_michflora_export.`MaxElevation` AS `tbl_michflora_export_MaxElevation`, tbl_michflora_export.`ElevationUnits` AS `tbl_michflora_export_ElevationUnits`, tbl_michflora_export.`AccompanyingCollectors` AS `tbl_michflora_export_AccompanyingCollectors`, tbl_michflora_export.`MinDepth` AS `tbl_michflora_export_MinDepth`, tbl_michflora_export.`MaxDepth` AS `tbl_michflora_export_MaxDepth`, tbl_michflora_export.`DepthUnits` AS `tbl_michflora_export_DepthUnits`, tbl_michflora_export.`SpecimenNotes` AS `tbl_michflora_export_SpecimenNotes`, tbl_michflora_export.`CuratorialNotes` AS `tbl_michflora_export_CuratorialNotes`, tbl_michflora_export.`Herbaria` AS `tbl_michflora_export_Herbaria`, tbl_michflora_export.dttm_specify_export AS tbl_michflora_export_dttm_specify_export \nFROM tbl_michflora_export \nWHERE lower(tbl_michflora_export.`Country`) LIKE lower(%(Country_1)s) AND lower(tbl_michflora_export.`Collectors`) LIKE lower(%(Collectors_1)s)\n",
            "547\n"
          ],
          "output_type": "stream"
        }
      ],
      "source": "q3 \u003d q2.filter(spt.SpecifyRecords.collectors.ilike(\u0027%Stuckey%\u0027))\nprint(q3)\nx \u003d q3.count()\nprint(x)",
      "metadata": {
        "pycharm": {
          "metadata": false,
          "name": "#%%\n",
          "is_executing": false
        }
      }
    }
  ],
  "metadata": {
    "kernelspec": {
      "display_name": "Python 3",
      "language": "python",
      "name": "python3"
    },
    "language_info": {
      "codemirror_mode": {
        "name": "ipython",
        "version": 3
      },
      "file_extension": ".py",
      "mimetype": "text/x-python",
      "name": "python",
      "nbconvert_exporter": "python",
      "pygments_lexer": "ipython3",
      "version": "3.7.3"
    }
  },
  "nbformat": 4,
  "nbformat_minor": 1
}